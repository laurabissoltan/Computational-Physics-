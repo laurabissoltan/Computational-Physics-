{
 "cells": [
  {
   "cell_type": "markdown",
   "metadata": {},
   "source": [
    "## Assignment 1: Solutions\n",
    "Author: Laura Bissoltan"
   ]
  },
  {
   "cell_type": "markdown",
   "metadata": {},
   "source": [
    "## Problem 1"
   ]
  },
  {
   "cell_type": "markdown",
   "metadata": {},
   "source": [
    "#1.1 \n",
    "\n",
    "The force acting on the satellite is gravitational force. It keeps satellite to move in a circular path and causes centripetal force. Those two forces are equal and opposite in magnitude. Therefore, using Newton's second law it can be written $(1)$\n",
    "\n",
    "$$ F_c = ma = \\frac{mv^2}{r} = G\\frac{mM}{r^2} = F_G $$    \n",
    "\n",
    "where $m$ and $M$ are mass of the satellite and the Earth respectively, $v$ is a velocity, $a$ is an acceleration in circular motion and $r$ is a distance from the center of the Earth to the center of the satellite. The velocity is defined as $v=distance/time$, where distance can be defined as a circumference of circle and time is period T: \n",
    "\n",
    "$$ v = \\frac{2\\pi r}{T} $$\n",
    "\n",
    "By making substitution of v in (1) with this velocity above and solving for r gives:\n",
    "\n",
    "$$\\frac{4\\pi^2 r^2}{T^2} = \\frac{GM}{r}$$\n",
    "\n",
    "$$ r = (\\frac{GMT^2}{4\\pi^2})^{1/3} $$\n",
    "\n",
    "Since $r$ is the distance from the center of Earth to the center of satellite, the altitude $h$ above the Earth’s surface that the satellite should have is\n",
    "\n",
    "$$ h = (\\frac{GMT^2}{4\\pi^2})^{1/3} - R $$\n",
    "\n",
    "where $R$ is radius of the Earth. \n"
   ]
  },
  {
   "cell_type": "code",
   "execution_count": 1,
   "metadata": {},
   "outputs": [
    {
     "name": "stdout",
     "output_type": "stream",
     "text": [
      "Enter the value of T in seconds:5400\n",
      "Altitude is:  279321.62537285965 meters\n"
     ]
    }
   ],
   "source": [
    "#1.2\n",
    "from math import pi\n",
    "\n",
    "R = 6371000 #m\n",
    "G = 6.67*10** -(11) #m^3*kg^(-1)s^(-2)\n",
    "M = 5.97*10**24 #kg\n",
    "T = float(input(\"Enter the value of T in seconds:\" ))\n",
    "h = ((G*M*T**2)/(4*pi**2))**(1/3) - R\n",
    "print(\"Altitude is: \", h, \"meters\")\n"
   ]
  },
  {
   "cell_type": "markdown",
   "metadata": {},
   "source": [
    "#1.3\n",
    "\n",
    "Table 1. The altitudes of satellites    \n",
    "    \n",
    "|      Period(T)    |  Period(T)/seconds  |   Altitude(h)/meters |\n",
    "|:-----------------:|:-------------------:|:--------------------:|\n",
    "| once a day        |      86400          |     35855910.1762    |\n",
    "| once every 90 min |      5400           |     279321.6254      |\n",
    "| once every 45 min |      2700           |    -2181559.8978     |\n",
    "\n",
    "The value of altitude is negative for 45 min and it can be concluded that the altitude of satellite which orbit the Earth once every 45 min is not possible.\n"
   ]
  },
  {
   "cell_type": "markdown",
   "metadata": {},
   "source": [
    "#1.4\n",
    "\n",
    "The sidereal day (23.93 hours) is one complete rotation of the Earth about its axis with respect to the distant stars. It is shorter than solar day (24 hours) because, in addition to the rotation, the Earth has to move slightly more along the path around Sun in order to complete rotation with respect to the Sun.\n",
    "Using the program above altitude was calculated for 23.93 hours and it was 35773762.3298 meters. The difference was 82147.8463 meters. "
   ]
  },
  {
   "cell_type": "markdown",
   "metadata": {},
   "source": [
    "## Problem 2"
   ]
  },
  {
   "cell_type": "code",
   "execution_count": 2,
   "metadata": {},
   "outputs": [
    {
     "name": "stdout",
     "output_type": "stream",
     "text": [
      "Enter the number of elements: 6\n",
      "Enter a nonnegative integer: \n",
      "3\n",
      "Enter a nonnegative integer: \n",
      "3\n",
      "Enter a nonnegative integer: \n",
      "0\n",
      "Enter a nonnegative integer: \n",
      "1\n",
      "Enter a nonnegative integer: \n",
      "1\n",
      "Enter a nonnegative integer: \n",
      "1\n",
      "10080\n"
     ]
    }
   ],
   "source": [
    "#2.1\n",
    "\n",
    "n_list=[]\n",
    "\n",
    "def multinomial_coeff(n_list):\n",
    "    val = 1\n",
    "    i = 1\n",
    "    for j in n_list:\n",
    "        for k in range(1,j+1):\n",
    "            val = val * i\n",
    "            val //= k\n",
    "            i = i + 1\n",
    "    return val\n",
    "\n",
    "n = int(input(\"Enter the number of elements: \")) \n",
    "\n",
    "for i in range(0, n): \n",
    "    print(\"Enter a nonnegative integer: \")\n",
    "    elt = int(input()) \n",
    "  \n",
    "    n_list.append(elt)\n",
    "    \n",
    "print(multinomial_coeff(n_list))"
   ]
  },
  {
   "cell_type": "code",
   "execution_count": 3,
   "metadata": {},
   "outputs": [
    {
     "name": "stdout",
     "output_type": "stream",
     "text": [
      "a)  420\n",
      "b)  10080\n",
      "c)  831600\n"
     ]
    }
   ],
   "source": [
    "#2.2\n",
    "\n",
    "print(\"a) \", multinomial_coeff([4, 2, 2, 0]))\n",
    "print(\"b) \", multinomial_coeff([3, 3, 0, 1, 1, 1]))\n",
    "print(\"c) \", multinomial_coeff([2, 3, 2, 4, 1, 0]))"
   ]
  },
  {
   "cell_type": "code",
   "execution_count": 4,
   "metadata": {},
   "outputs": [
    {
     "name": "stdout",
     "output_type": "stream",
     "text": [
      "a) Sum of the all possible multinomial coefficients for r=2 n=6 is 64\n",
      "b) Sum of the all possible multinomial coefficients for r=3 n=5 is 243\n"
     ]
    }
   ],
   "source": [
    "#2.3\n",
    "\n",
    "#since by formula order does not matter in calculation of the sum, some number combinations was multiplied by 2, 3 or 6  \n",
    "#e.g. multinomial_coeff([0,0,5]) = multinomial_coeff([0,5,0]) = multinomial_coeff([5,0,0]) = 1 (multiplied by 3 because permutation 3!/(2!1!)=3) \n",
    "\n",
    "a_sum = (multinomial_coeff([0,6]) + multinomial_coeff([1,5]) + multinomial_coeff([2,4]))*2 + multinomial_coeff([3,3])\n",
    "b_sum = (multinomial_coeff([0,0,5]) + multinomial_coeff([1, 1, 3])+multinomial_coeff([2,2,1]))*3 + (multinomial_coeff([0, 1, 4]) + multinomial_coeff([0,2,3]))*6\n",
    "\n",
    "print(\"a) Sum of the all possible multinomial coefficients for r=2 n=6 is\", a_sum)\n",
    "print(\"b) Sum of the all possible multinomial coefficients for r=3 n=5 is\", b_sum)\n",
    "\n"
   ]
  },
  {
   "cell_type": "markdown",
   "metadata": {},
   "source": [
    "## Problem 3"
   ]
  },
  {
   "cell_type": "code",
   "execution_count": 5,
   "metadata": {},
   "outputs": [],
   "source": [
    "#3.1\n",
    "\n",
    "def catalan(k):\n",
    "    if k <= 1:\n",
    "        return 1\n",
    "    else:\n",
    "        return (4*k-2)*catalan(k-1)//(k+1)\n",
    "    "
   ]
  },
  {
   "cell_type": "code",
   "execution_count": 6,
   "metadata": {},
   "outputs": [
    {
     "name": "stdout",
     "output_type": "stream",
     "text": [
      "The value of C_19 is 1767263190\n",
      "The value of C_99 is 227508830794229349661819540395688853956041682601541047340\n"
     ]
    }
   ],
   "source": [
    "#3.2\n",
    "\n",
    "print(\"The value of C_19 is\", catalan(19))\n",
    "print(\"The value of C_99 is\", catalan(99))"
   ]
  }
 ],
 "metadata": {
  "kernelspec": {
   "display_name": "Python 3",
   "language": "python",
   "name": "python3"
  },
  "language_info": {
   "codemirror_mode": {
    "name": "ipython",
    "version": 3
   },
   "file_extension": ".py",
   "mimetype": "text/x-python",
   "name": "python",
   "nbconvert_exporter": "python",
   "pygments_lexer": "ipython3",
   "version": "3.7.4"
  }
 },
 "nbformat": 4,
 "nbformat_minor": 2
}

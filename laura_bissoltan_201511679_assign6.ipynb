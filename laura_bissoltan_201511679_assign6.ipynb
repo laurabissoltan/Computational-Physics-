{
 "cells": [
  {
   "cell_type": "markdown",
   "metadata": {},
   "source": [
    "## Assignment 6 Solutions\n",
    "Author: Laura Bissoltan"
   ]
  },
  {
   "cell_type": "markdown",
   "metadata": {},
   "source": [
    "### Problem 1"
   ]
  },
  {
   "cell_type": "code",
   "execution_count": 168,
   "metadata": {},
   "outputs": [
    {
     "name": "stdout",
     "output_type": "stream",
     "text": [
      "Value at x = 3.5 is 9.59375\n"
     ]
    }
   ],
   "source": [
    "#1.1\n",
    "\n",
    "import numpy as np\n",
    "\n",
    "x=[0,1.8,5,6,8.2,9.2,12]\n",
    "y=[26,16.415,5.375,3.5,2.015,2.540,8]\n",
    "\n",
    "A = np.zeros((7,7))\n",
    "\n",
    "def f(x0):\n",
    "    def divdif(x,y,n):\n",
    "        for i in range(0,n):\n",
    "            A[i,0]=y[i]\n",
    "        for j in range(1,n):\n",
    "            for i in range(0,n-j):\n",
    "                A[i,j]=(A[i+1,j-1]-A[i,j-1])/(x[i+j]-x[i])\n",
    "        return A\n",
    "    \n",
    "    divdif(x,y,7)\n",
    "    \n",
    "    b=[]\n",
    "    for i in range(7):\n",
    "        b.append(A[0,i])\n",
    "               \n",
    "    s=b[0]\n",
    "    p = 1\n",
    "    for i in range(1,7):\n",
    "        p = p*(x0-x[i-1])\n",
    "        s = s + b[i]*p\n",
    "    \n",
    "    return s\n",
    "\n",
    "print(\"Value at x = 3.5 is\",f'{f(3.5):.5f}')\n"
   ]
  },
  {
   "cell_type": "code",
   "execution_count": 169,
   "metadata": {},
   "outputs": [
    {
     "data": {
      "image/png": "[encoded data removed]",
      "text/plain": [
       "<Figure size 432x288 with 1 Axes>"
      ]
     },
     "metadata": {
      "needs_background": "light"
     },
     "output_type": "display_data"
    }
   ],
   "source": [
    "#1.2\n",
    "\n",
    "from matplotlib import pyplot as plt\n",
    "\n",
    "z=np.linspace(-1,13,100)\n",
    "plt.plot(z,f(z))\n",
    "\n",
    "plt.xlabel(\"x\",size=18)\n",
    "plt.ylabel(\"f(x)\",size=18)\n",
    "plt.show()\n"
   ]
  },
  {
   "cell_type": "markdown",
   "metadata": {},
   "source": [
    "### Problem 2"
   ]
  },
  {
   "cell_type": "code",
   "execution_count": 170,
   "metadata": {},
   "outputs": [
    {
     "data": {
      "image/png": "[encoded data removed]",
      "text/plain": [
       "<Figure size 432x288 with 1 Axes>"
      ]
     },
     "metadata": {
      "needs_background": "light"
     },
     "output_type": "display_data"
    },
    {
     "data": {
      "image/png": "[encoded data removed]",
      "text/plain": [
       "<Figure size 432x288 with 1 Axes>"
      ]
     },
     "metadata": {
      "needs_background": "light"
     },
     "output_type": "display_data"
    }
   ],
   "source": [
    "import numpy as np\n",
    "from numpy import sin,cos,pi\n",
    "from matplotlib import pyplot as plt\n",
    "\n",
    "#1.1\n",
    "dt=0.099\n",
    "t=np.arange(0,2*pi,dt)\n",
    "N=len(t)\n",
    "\n",
    "#1.2\n",
    "f = cos(10*t)+sin(3*t) + 0.15*np.random.randn(N)\n",
    "np.random.seed(1234)\n",
    "\n",
    "#1.3\n",
    "F=np.fft.fft(f)\n",
    "S=np.fft.fftfreq(N,dt)\n",
    "\n",
    "#1.4\n",
    "plt.scatter(2*pi*S[0:32],np.abs(F[0:32])**2)\n",
    "plt.title(\"Power spectrum\\n\",size=18)\n",
    "plt.xlabel('$\\omega_k$',size=15)\n",
    "plt.ylabel('$|F_k|$',size=15)\n",
    "plt.show()\n",
    "\n",
    "#1.5\n",
    "plt.bar(2*pi*S[0:32],np.angle(F[0:32]))\n",
    "plt.title(\"Phase spectrum\\n\",size=18)\n",
    "plt.xlabel('$\\omega_k$',size=15)\n",
    "plt.ylabel('$\\\\angle F_k$',size=15)\n",
    "plt.show()\n"
   ]
  },
  {
   "cell_type": "markdown",
   "metadata": {},
   "source": [
    "### Problem 3"
   ]
  },
  {
   "cell_type": "code",
   "execution_count": 171,
   "metadata": {},
   "outputs": [
    {
     "name": "stdout",
     "output_type": "stream",
     "text": [
      "Exact numerical value is 0.42241831194644774\n"
     ]
    }
   ],
   "source": [
    "#3.1\n",
    "\n",
    "I1 = 0.42241831194644774\n",
    "print(\"Exact numerical value is\", I1)\n"
   ]
  },
  {
   "cell_type": "code",
   "execution_count": 172,
   "metadata": {},
   "outputs": [
    {
     "name": "stdout",
     "output_type": "stream",
     "text": [
      "I_GQ value for m=2: 0.22415040451952173\n",
      "I_GQ value for m=5: 0.4211428986425137\n"
     ]
    }
   ],
   "source": [
    "#3.2\n",
    "import numpy as np\n",
    "\n",
    "def f(x):\n",
    "    return (x**4*(2-x)**4)/(1+x**2)\n",
    "\n",
    "b=2\n",
    "a=0\n",
    "\n",
    "def g(x):\n",
    "    return f(((b+a)+(b-a)*x)/2)*((b-a)/2)\n",
    "\n",
    "def GQ(f,m):\n",
    "    if m == 2:\n",
    "        xp = np.array([-0.5774,0.5774]) \n",
    "        C = np.array([1.0,1.0]) \n",
    "        return np.dot(C,f(xp))\n",
    "    if m == 3:\n",
    "        xp = np.array([-0.7746, 0.0, 0.7746])\n",
    "        C = np.array([0.5556, 0.8889, 0.5556])\n",
    "        return np.dot(C,f(xp))\n",
    "    if m == 4:\n",
    "        xp = np.array([-0.8611, -0.34, 0.34, 0.8611])\n",
    "        C = np.array([0.3479, 0.6521, 0.6521, 0.3479])\n",
    "        return np.dot(C,f(xp))\n",
    "    if m == 5:\n",
    "        xp = np.array([-0.9062, -0.5385, 0.0, 0.5385, 0.9062])\n",
    "        C = np.array([0.2369, 0.4786, 0.5689, 0.4786, 0.2369])\n",
    "        return np.dot(C,f(xp))\n",
    "    if m == 6:\n",
    "        xp = np.array([-0.9325, -0.6612, -0.2386, 0.2386, 0.6612, 0.9325])\n",
    "        C = np.array([0.1713, 0.3608, 0.4679, 0.4679, 0.3608, 0.1713])\n",
    "        return np.dot(C,f(xp))\n",
    "    if m == 7:\n",
    "        xp = np.array([-0.9491, -0.7415, -0.4058, 0.0, 0.4058, 0.7415, 0.9491])\n",
    "        C = np.array([0.1295, 0.2797, 0.3818, 0.418, 0.3818, 0.2797, 0.1295])\n",
    "        return np.dot(C,f(xp))\n",
    "    \n",
    "print(\"I_GQ value for m=2:\", GQ(g,2))\n",
    "print(\"I_GQ value for m=5:\", GQ(g,5))\n",
    "    "
   ]
  },
  {
   "cell_type": "code",
   "execution_count": 173,
   "metadata": {},
   "outputs": [
    {
     "data": {
      "image/png": "[encoded data removed]",
      "text/plain": [
       "<Figure size 432x288 with 1 Axes>"
      ]
     },
     "metadata": {
      "needs_background": "light"
     },
     "output_type": "display_data"
    }
   ],
   "source": [
    "#3.3\n",
    "\n",
    "from matplotlib import pyplot as plt\n",
    "\n",
    "lst=[]\n",
    "for i in range(2,8):\n",
    "    e_gq=((I1-GQ(g,i))/I1)*100\n",
    "    lst.append(e_gq)\n",
    "    \n",
    "y=lst\n",
    "x=[2,3,4,5,6,7]\n",
    "  \n",
    "plt.plot(x,lst)\n",
    "plt.title(\"True relative percentage error versus number of Gauss points\\n\", size=18)\n",
    "plt.xlabel(r'$m$',size=18)\n",
    "plt.ylabel(r'$\\epsilon_{GQ}$',size=18)\n",
    "plt.show()\n"
   ]
  }
 ],
 "metadata": {
  "kernelspec": {
   "display_name": "Python 3",
   "language": "python",
   "name": "python3"
  },
  "language_info": {
   "codemirror_mode": {
    "name": "ipython",
    "version": 3
   },
   "file_extension": ".py",
   "mimetype": "text/x-python",
   "name": "python",
   "nbconvert_exporter": "python",
   "pygments_lexer": "ipython3",
   "version": "3.7.4"
  }
 },
 "nbformat": 4,
 "nbformat_minor": 2
}

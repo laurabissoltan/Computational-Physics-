{
 "cells": [
  {
   "cell_type": "markdown",
   "metadata": {},
   "source": [
    "## Assignment 5 Solutions\n",
    "Author: Laura Bissoltan"
   ]
  },
  {
   "cell_type": "markdown",
   "metadata": {},
   "source": [
    "### Problem 1"
   ]
  },
  {
   "cell_type": "code",
   "execution_count": 131,
   "metadata": {},
   "outputs": [],
   "source": [
    "#1.1\n",
    "\n",
    "def parabolic(f,x0,x2,tol,imax):\n",
    "    x1=(x0+x2)/2\n",
    "    print(\"Search interval: [\",x0,\",\",x2,\"]\")\n",
    "    \n",
    "    R = (5.0**0.5-1.0)/2.0\n",
    "    imax = ceil(log(tol/(x2-x0))/log(R))\n",
    "    print(f'Number of iterations (function evaluations): {imax}')\n",
    "    \n",
    "    \n",
    "    if f(x0)>f(x1) or f(x1)<f(x2):\n",
    "        print(\"Maximum does not exist in given interval\")\n",
    "        \n",
    "    for i in range(imax):\n",
    "        \n",
    "        n=((f(x1)-f(x0))/(f(x2)-f(x0)))*(x2**2-x0**2)-(x1**2-x0**2)\n",
    "        d=2*((f(x1)-f(x0))/(f(x2)-f(x0)))*(x2-x0)-2*(x1-x0)\n",
    "        x3=n/d\n",
    "                  \n",
    "        if f(x3)>f(x1):\n",
    "            x0=x1\n",
    "            x1=x3\n",
    "            x2=x2\n",
    "      \n",
    "        elif f(x3)<f(x1):\n",
    "            x0=x0\n",
    "            x2=x1\n",
    "            x1=x3\n",
    "        \n",
    "        elif abs((x1-x3))<tol: break\n",
    "      \n",
    "    x1=x3\n",
    "        \n",
    "    return x3, f(x3)\n",
    "    \n"
   ]
  },
  {
   "cell_type": "code",
   "execution_count": 132,
   "metadata": {},
   "outputs": [
    {
     "name": "stdout",
     "output_type": "stream",
     "text": [
      "Search interval: [ 1 , 4 ]\n",
      "Number of iterations (function evaluations): 12\n",
      "x_opt: 1.911186046523174  f(x_opt): 1.3937436772136036\n"
     ]
    }
   ],
   "source": [
    "#1.6\n",
    "\n",
    "from numpy import sinh\n",
    "\n",
    "def f(x):\n",
    "    return (4/x)*(1-x**2/(sinh(x))**2)\n",
    "x3, f3 = parabolic(f,1,4,0.01,50)\n",
    "\n",
    "print(\"x_opt:\", x3, \" f(x_opt):\",f(x3))\n"
   ]
  },
  {
   "cell_type": "markdown",
   "metadata": {},
   "source": [
    "### Problem 2"
   ]
  },
  {
   "cell_type": "markdown",
   "metadata": {},
   "source": [
    "$\\hspace{16mm}$ $a)\\hspace{2mm} Gradient \\hspace{2mm}vector:$\n",
    "\n",
    "$$f(x,y)=2xy^2+13e^{xy}$$ \n",
    "$$f_x=2y^2+13ye^{xy} \\hspace{8 mm}f_y=4xy+13xe^{xy}$$\n",
    "$$\\nabla f(x,y)=(2y^2+13ye^{xy},4xy+13xe^{xy})$$\n",
    "\n",
    "$\\hspace{16mm}$ $\\hspace{5mm} Hessian \\hspace{2mm}matrix:$\n",
    "$$f_{xx}=13y^2e^{xy}$$\n",
    "$$f_{yy}=4x+13x^2e^{xy}$$\n",
    "$$f_{xy}=f_{yx}=4y+13e^{xy}+13xye^{xy}$$\n",
    "\n",
    "\n",
    "$$\\begin{bmatrix}\n",
    "13y^2e^{xy} & 4y+13e^{xy}+13xye^{xy}\\\\\n",
    "4y+13e^{xy}+13xye^{xy} & 4x+13x^2e^{xy} \n",
    "\\end{bmatrix}$$\n",
    "\n",
    "$\\hspace{16mm}$ $b)\\hspace{2mm} Gradient \\hspace{2mm}vector:$\n",
    "$$f(x,y)=ln(x^2+2xy+3y^2)$$\n",
    "$$f_x=\\frac{2x+2y}{x^2+2xy+3y^2}$$\n",
    "$$f_y=\\frac{2x+6y}{x^2+2xy+3y^2}$$\n",
    "$$\\nabla f(x,y)=(\\frac{2x+2y}{x^2+2xy+3y^2},\\frac{2x+6y}{x^2+2xy+3y^2})$$\n",
    "\n",
    "$\\hspace{16mm}$ $\\hspace{5mm} Hessian \\hspace{2mm}matrix:$\n",
    "$$f_{xx}=\\frac{2(x^2+2xy+3y^2)-(2x+2y)(2x+2y)}{(x^2+2xy+3y^2)^2}=\\frac{-2x^2-4xy+2y^2}{(x^2+2xy+3y^2)^2}$$\n",
    "$$f_{yy}=\\frac{6(x^2+2xy+3y^2)-(2x+6y)(2x+6y)}{(x^2+2xy+3y^2)^2}=\\frac{2x^2-12xy-18y^2}{(x^2+2xy+3y^2)^2}$$\n",
    "$$f_{xy}=f_{yx}=\\frac{2(x^2+2xy+3y^2)-(2x+6y)(2x+2y)}{(x^2+2xy+3y^2)^2}=\\frac{-2x^2-12xy-6y^2}{(x^2+2xy+3y^2)^2}$$\n",
    "\n",
    "$$\\begin{bmatrix}\n",
    "\\frac{-2x^2-4xy+2y^2}{(x^2+2xy+3y^2)^2} & \\frac{-2x^2-12xy-6y^2}{(x^2+2xy+3y^2)^2}\\\\\n",
    "\\frac{-2x^2-12xy-6y^2}{(x^2+2xy+3y^2)^2} & \\frac{2x^2-12xy-18y^2}{(x^2+2xy+3y^2)^2} \n",
    "\\end{bmatrix}$$"
   ]
  },
  {
   "cell_type": "markdown",
   "metadata": {},
   "source": [
    "### Problem 3"
   ]
  },
  {
   "cell_type": "code",
   "execution_count": 133,
   "metadata": {},
   "outputs": [],
   "source": [
    "#golden search method from lecture\n",
    "\n",
    "def goldensearch(f,a0,b0,tol):\n",
    "\n",
    "    a = a0\n",
    "    b = b0\n",
    "    d0 = b-a # b0>a0\n",
    "    R = (5.0**0.5-1.0)/2.0\n",
    "    imax = ceil(log(tol/d0)/log(R))\n",
    "   \n",
    "    #first iteration\n",
    "    d = R*d0 \n",
    "    x1 = a+d\n",
    "    x2 = b-d\n",
    "    f1 = f(x1)\n",
    "    f2 = f(x2)\n",
    "\n",
    "    \n",
    "    for i in range(2,imax+1):\n",
    "        d = R*d\n",
    "        if f1 > f2:\n",
    "            a = x2\n",
    "            #b=b\n",
    "            x2 = x1\n",
    "            x1 = a+d\n",
    "            f2 = f1\n",
    "            f1 = f(x1)\n",
    "        else:\n",
    "            #a=a\n",
    "            b = x1\n",
    "            x1 = x2\n",
    "            x2 = b-d\n",
    "            f1 = f2\n",
    "            f2 = f(x2)                       \n",
    "\n",
    "\n",
    "    if f1 > f2:\n",
    "        return x1,f1\n",
    "    else:\n",
    "        return x2,f2\n"
   ]
  },
  {
   "cell_type": "code",
   "execution_count": 134,
   "metadata": {},
   "outputs": [
    {
     "name": "stdout",
     "output_type": "stream",
     "text": [
      "x_opt: 0.7857801723071233 \n",
      "y_opt: 0.7781609740963835 \n",
      "f_max: 0.8110610243886027\n"
     ]
    }
   ],
   "source": [
    "#3.1\n",
    "\n",
    "from numpy import e\n",
    "\n",
    "def f(x,y):\n",
    "    return e**(-(x-1)**2-(y-1)**2-0.5*x**3*y**3)\n",
    "def dfdx(x,y):\n",
    "    return f(x,y)*(-2*x+2-1.5*x**2*y**3)\n",
    "def dfdy(x,y):\n",
    "    return f(x,y)*(-2*y+2-1.5*x**3*y**2)  \n",
    "\n",
    "    \n",
    "def steepest(x0,y0,tol,imax):\n",
    "    for i in range(imax):\n",
    "        def g(h):   \n",
    "            return f(x0+dfdx(x0,y0)*h,y0+dfdy(x0,y0)*h)\n",
    "        h,k=goldensearch(g,0.1,5,0.01)\n",
    "    \n",
    "        x1=x0+dfdx(x0,y0)*h\n",
    "        y1=y0+dfdy(x0,y0)*h\n",
    "        if abs(y0-y1)<tol and abs(x0-x1)<tol: break\n",
    "        x0=x1\n",
    "        y0=y1\n",
    "    return x1,y1,f(x1,y1)\n",
    "        \n",
    "x_opt,y_opt,f_max = steepest(0.5,-0.5,0.01,50)\n",
    "print(\"x_opt:\",x_opt,\"\\n\" \"y_opt:\",y_opt,\"\\n\"\"f_max:\",f_max)\n",
    "\n"
   ]
  },
  {
   "cell_type": "code",
   "execution_count": 135,
   "metadata": {},
   "outputs": [
    {
     "data": {
      "image/png": "[encoded data removed]",
      "text/plain": [
       "<Figure size 432x288 with 1 Axes>"
      ]
     },
     "metadata": {
      "needs_background": "light"
     },
     "output_type": "display_data"
    }
   ],
   "source": [
    "#3.2 and #3.3\n",
    "import matplotlib.pyplot as plt\n",
    "import numpy as np\n",
    "%matplotlib inline\n",
    "\n",
    "x = np.linspace(-0.5, 2.5, 1500)\n",
    "y = np.linspace(-0.5, 2.5, 1500)\n",
    "\n",
    "X, Y = np.meshgrid(x, y)\n",
    "Z = f(X, Y)\n",
    "\n",
    "CS=plt.contour(X, Y, Z,[0.2,0.4,0.7,0.8],colors=['k','b','k','b']);\n",
    "\n",
    "\n",
    "plt.clabel(CS,inline = 1, fontsize=8)\n",
    "plt.xlabel('$x$',size=15)\n",
    "plt.ylabel('$y$',size=15)\n",
    "#plt.scatter([0.78578],[0.77816],'r',label='f_max(x_opt,y_opt)')\n",
    "plt.plot([0.78578],[0.77816],'rx',label='f_max(x_opt,y_opt)')\n",
    "plt.legend(loc='upper right',fontsize='10')\n",
    "plt.text(0.79,0.79,'0.811',size=8,c='r')\n",
    "plt.show()\n",
    "\n"
   ]
  }
 ],
 "metadata": {
  "kernelspec": {
   "display_name": "Python 3",
   "language": "python",
   "name": "python3"
  },
  "language_info": {
   "codemirror_mode": {
    "name": "ipython",
    "version": 3
   },
   "file_extension": ".py",
   "mimetype": "text/x-python",
   "name": "python",
   "nbconvert_exporter": "python",
   "pygments_lexer": "ipython3",
   "version": "3.7.4"
  }
 },
 "nbformat": 4,
 "nbformat_minor": 2
}

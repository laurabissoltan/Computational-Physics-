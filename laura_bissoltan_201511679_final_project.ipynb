{
 "cells": [
  {
   "cell_type": "markdown",
   "metadata": {},
   "source": [
    "## Final Project Solutions\n",
    "Author: Laura Bissoltan"
   ]
  },
  {
   "cell_type": "markdown",
   "metadata": {},
   "source": [
    "### Problem 1"
   ]
  },
  {
   "cell_type": "markdown",
   "metadata": {},
   "source": [
    "#1.1\n",
    "$$\\ddot{x} = -\\frac{\\pi R^2\\rho C}{2m}\\dot{x}\\sqrt{\\dot{x}^{2}+\\dot{y}^{2}}$$\n",
    "$$\\ddot{y} = -g -\\frac{\\pi R^2\\rho C}{2m}\\dot{y}\\sqrt{\\dot{x}^{2}+\\dot{y}^{2}}$$\n",
    "\n",
    "\n",
    "where $R$ is the sphere’s radius, $\\rho$ is the density of air, $\\nu$ is the velocity, $g$ is gravitaional constant, $C$ is the coefficient of drag, $\\dot{x}$ and $\\ddot{x}$ are the first and second derivatives of $x$ w.r.t time"
   ]
  },
  {
   "cell_type": "markdown",
   "metadata": {},
   "source": [
    "#1.2\n",
    "$$\\frac{dx}{dt}=\\frac{dy_1}{dt}=y_2$$\n",
    "$$\\frac{dy}{dt}=\\frac{dy_3}{dt}=y_4$$\n",
    "$$\\frac{dy_2}{dt} = -\\frac{\\pi R^2\\rho C}{2m}{y_2}\\sqrt{{y_2}^{2}+{y_4}^{2}}$$\n",
    "$$\\frac{dy_4}{dt} = -g -\\frac{\\pi R^2\\rho C}{2m}{y_2}\\sqrt{{y_2}^{2}+{y_4}^{2}}$$\n"
   ]
  },
  {
   "cell_type": "code",
   "execution_count": 123,
   "metadata": {},
   "outputs": [
    {
     "data": {
      "image/png": "[encoded data removed]",
      "text/plain": [
       "<Figure size 576x432 with 1 Axes>"
      ]
     },
     "metadata": {
      "needs_background": "light"
     },
     "output_type": "display_data"
    },
    {
     "name": "stdout",
     "output_type": "stream",
     "text": [
      "\n",
      " Step size h=0.01.\n"
     ]
    }
   ],
   "source": [
    "#source code for RK4 is from lecture 23 (Lec23 part-II)\n",
    "\n",
    "import numpy as np\n",
    "from numpy import pi,sin,cos,sqrt\n",
    "from matplotlib import pyplot as plt\n",
    "\n",
    "m = 1 #kg\n",
    "R = 0.08 #m\n",
    "ang = pi/6 #radians\n",
    "v0 = 100 #m/s\n",
    "p = 1.22 #kg/m^3\n",
    "g = 9.8 #m/s^2\n",
    "C = 0.47 #drag coef.\n",
    "C1 = 0\n",
    "\n",
    "def f1(yv,t):\n",
    "    return yv[1] \n",
    "\n",
    "def f2(yv,t):\n",
    "    return ((-pi*R**2*p*C)/(2*m))*yv[1]*sqrt((yv[1])**2+(yv[3])**2)\n",
    "\n",
    "def f3(yv,t):\n",
    "    return yv[3] \n",
    "\n",
    "def f4(yv,t):\n",
    "    return -g-((pi*R**2*p*C)/(2*m))*yv[3]*sqrt((yv[1])**2+(yv[3])**2)\n",
    "\n",
    "def f5(yv,t):\n",
    "    return ((-pi*R**2*p*C1)/(2*m))*yv[1]*sqrt((yv[1])**2+(yv[3])**2)\n",
    "\n",
    "def f6(yv,t):\n",
    "    return -g-((pi*R**2*p*C1)/(2*m))*yv[3]*sqrt((yv[1])**2+(yv[3])**2)\n",
    "\n",
    "\n",
    "fv = [f1,f2,f3,f4]\n",
    "\n",
    "def ysfromRK4(fv,yv0,t):                             #ysfromRK4([f1,f2,f3,f4],[0,v0cos30,0,v0sin30],t)\n",
    "    h = t[1]-t[0]; nt = len(t);ny = len(y0)          #t = np.linspace(0,10.52,1000)\n",
    "    Ys = np.zeros((ny,nt)) \n",
    "    \n",
    "    Ys[:,0] = yv0\n",
    "    for i in range(nt-1):\n",
    "        k1 = K1(fv,Ys[:,i],t[i])\n",
    "        k2 = K2(k1,fv,Ys[:,i],t[i],h)\n",
    "        k3 = K3(k2,fv,Ys[:,i],t[i],h)\n",
    "        k4 = K4(k3,fv,Ys[:,i],t[i],h)\n",
    "        Ys[:,i+1] = Ys[:,i]+1/6*(k1+2*k2+2*k3+k4)*h\n",
    "    return Ys\n",
    "\n",
    "def K1(fv,yi,ti):\n",
    "    N = len(fv)\n",
    "    k1 = np.zeros(N)\n",
    "    for j in range(N):\n",
    "        k1[j] = fv[j](yi,ti)\n",
    "    return k1\n",
    "\n",
    "def K2(k1,fv,yi,ti,h):\n",
    "    N = len(fv); k2 = np.zeros(N)\n",
    "    for j in range(N):\n",
    "        k2[j] = fv[j](yi+0.5*k1*h,ti+0.5*h)\n",
    "    return k2\n",
    "\n",
    "def K3(k2,fv,yi,ti,h):\n",
    "    N = len(fv); k3 = np.zeros(N)\n",
    "    for j in range(N):\n",
    "        k3[j] = fv[j](yi+k2*0.5*h,ti+0.5*h)\n",
    "    return k3\n",
    "\n",
    "def K4(k3,fv,yi,ti,h):\n",
    "    N = len(fv); k4 = np.zeros(N)\n",
    "    for j in range(N):\n",
    "        k4[j] = fv[j](yi+k3*h,ti+h)\n",
    "    return k4\n",
    "\n",
    "fv = [f1,f2,f3,f4]\n",
    "\n",
    "t = np.linspace(0,10.52,1000)\n",
    "y0 = [0,v0*cos(ang),0,v0*sin(ang)]\n",
    "Ys = ysfromRK4(fv,y0,t)\n",
    "\n",
    "fv1 = [f1,f5,f3,f6]\n",
    "Ys1 = ysfromRK4(fv1,y0,t)  \n",
    "\n",
    "\n",
    "plt.figure(figsize=(8,6)) \n",
    "plt.plot(Ys[0,:],Ys[2,:],'c',Ys1[0,:],Ys1[2,:],'m')\n",
    "plt.title(\"Trajectory of the cannonball\\n\",size=20)              #def f1(yv,t):  return yv[1] \n",
    "plt.legend([\"with air resistance\",\"without air resistance\"])    #def f3(yv,t): return yv[3] \n",
    "plt.xlabel(\"x\",size=15)\n",
    "plt.ylabel(\"y\",size=15)\n",
    "plt.ylim(0,150)\n",
    "plt.xlim(0,900)\n",
    "plt.grid()\n",
    "plt.show()\n",
    "print(f'\\n Step size h={t[1]-t[0]:.2f}.')\n",
    "\n",
    "\n"
   ]
  },
  {
   "cell_type": "code",
   "execution_count": 124,
   "metadata": {},
   "outputs": [
    {
     "name": "stdout",
     "output_type": "stream",
     "text": [
      "Total distance with air resistance: 242.33 meters.\n",
      "Total distance ignoring air resistance: 882.79 meters.\n"
     ]
    }
   ],
   "source": [
    "#1.4\n",
    "\n",
    "def distance(x_elt,y_elt,n):\n",
    "    for i in range(1,n):\n",
    "        if y_elt[n-i]>0: break\n",
    "    return x_elt[n-i]\n",
    "\n",
    "C=distance(Ys[0,:],Ys[2,:],1000)\n",
    "D=distance(Ys1[0,:],Ys1[2,:],1000)\n",
    "\n",
    "print(f'Total distance with air resistance: {C:.2f} meters.')\n",
    "print(f'Total distance ignoring air resistance: {D:.2f} meters.')\n"
   ]
  },
  {
   "cell_type": "code",
   "execution_count": 125,
   "metadata": {},
   "outputs": [
    {
     "data": {
      "image/png": "[encoded data removed]",
      "text/plain": [
       "<Figure size 432x288 with 1 Axes>"
      ]
     },
     "metadata": {
      "needs_background": "light"
     },
     "output_type": "display_data"
    }
   ],
   "source": [
    "#1.5\n",
    "import numpy as np\n",
    "from numpy import pi,sin,cos,sqrt\n",
    "from matplotlib import pyplot as plt\n",
    "\n",
    "#m = 1 #kg\n",
    "R = 0.08 #m\n",
    "ang = pi/6 #radians\n",
    "v0 = 100 #m/s\n",
    "p = 1.22 #kg/m^3\n",
    "g = 9.8 #m/s^2\n",
    "C = 0.47 #drag coef.\n",
    "C1 = 0\n",
    "\n",
    "def f1(yv,t,m):\n",
    "    return yv[1] \n",
    "\n",
    "def f2(yv,t,m):\n",
    "    return ((-pi*R**2*p*C)/(2*m))*yv[1]*sqrt((yv[1])**2+(yv[3])**2)\n",
    "\n",
    "def f3(yv,t,m):\n",
    "    return yv[3] \n",
    "\n",
    "def f4(yv,t,m):\n",
    "    return -g-((pi*R**2*p*C)/(2*m))*yv[3]*sqrt((yv[1])**2+(yv[3])**2)\n",
    "\n",
    "def f5(yv,t,m):\n",
    "    return ((-pi*R**2*p*C1)/(2*m))*yv[1]*sqrt((yv[1])**2+(yv[3])**2)\n",
    "\n",
    "def f6(yv,t,m):\n",
    "    return -g-((pi*R**2*p*C1)/(2*m))*yv[3]*sqrt((yv[1])**2+(yv[3])**2)\n",
    "\n",
    "t = np.linspace(0,10.52,1000)\n",
    "m = np.linspace(1,100,100)\n",
    "\n",
    "fv = [f1,f2,f3,f4]\n",
    "\n",
    "dist = []\n",
    "dist1 = []\n",
    "\n",
    "for i in range(len(m)):\n",
    "    def ysfromRK4(fv,yv0,t):\n",
    "        h = t[1]-t[0]; nt = len(t);ny = len(y0)\n",
    "        Ys = np.zeros((ny,nt)) \n",
    "        Ys[:,0] = yv0\n",
    "        for i in range(nt-1):\n",
    "            k1 = K1(fv,Ys[:,i],t[i])\n",
    "            k2 = K2(k1,fv,Ys[:,i],t[i],h)\n",
    "            k3 = K3(k2,fv,Ys[:,i],t[i],h)\n",
    "            k4 = K4(k3,fv,Ys[:,i],t[i],h)\n",
    "            Ys[:,i+1] = Ys[:,i]+1/6*(k1+2*k2+2*k3+k4)*h\n",
    "        return Ys\n",
    "    def K1(fv,yi,ti):\n",
    "        N = len(fv)\n",
    "        k1 = np.zeros(N)\n",
    "        for j in range(N):\n",
    "            k1[j] = fv[j](yi,ti,m[i])\n",
    "        return k1\n",
    "    \n",
    "    def K2(k1,fv,yi,ti,h):\n",
    "        N = len(fv); k2 = np.zeros(N)\n",
    "        for j in range(N):\n",
    "            k2[j] = fv[j](yi+0.5*k1*h,ti+0.5*h,m[i])\n",
    "        return k2\n",
    "    \n",
    "    def K3(k2,fv,yi,ti,h):\n",
    "        N = len(fv); k3 = np.zeros(N)\n",
    "        for j in range(N):\n",
    "            k3[j] = fv[j](yi+k2*0.5*h,ti+0.5*h,m[i])\n",
    "        return k3\n",
    "    \n",
    "    def K4(k3,fv,yi,ti,h):\n",
    "        N = len(fv); k4 = np.zeros(N)\n",
    "        for j in range(N):\n",
    "            k4[j] = fv[j](yi+k3*h,ti+h,m[i])\n",
    "        return k4\n",
    "    \n",
    "    y0 = [0,v0*cos(ang),0,v0*sin(ang)]\n",
    "    \n",
    "    fv=[f1,f2,f3,f4]\n",
    "    Ys=ysfromRK4(fv,y0,t)\n",
    "    A=Ys[0,:]\n",
    "    B=Ys[2,:]    \n",
    "    dist.append(distance(A,B,1000))\n",
    "    \n",
    "    fv1 = [f1,f5,f3,f6]\n",
    "    Ys1=ysfromRK4(fv1,y0,t)\n",
    "    A1=Ys1[0,:]\n",
    "    B1=Ys1[2,:]\n",
    "    dist1.append(distance(A1,B1,1000))\n",
    "    \n",
    "plt.plot(m,dist,'c',m,dist1,'green')\n",
    "plt.title(\"Distance traveled (D) as a function of mass (m)\",size=18)\n",
    "plt.legend([\"with air resistance\",\"without air resistance\"])\n",
    "plt.xlabel(\"m\",size=15)\n",
    "plt.ylabel(\"D\",size=15)\n",
    "plt.show()\n",
    "\n",
    "\n",
    "\n"
   ]
  },
  {
   "cell_type": "markdown",
   "metadata": {},
   "source": [
    "#1.6 <br /> \n",
    "As can be seen from the plot above distance was constantly around 900 meters when air resistance is ignored, so distance does not depend on mass when there is no air resistance. When air resistance is involved the distance has a logarithmic growth and as the sphere became heavier the air resistance has less effect on it than when the sphere is lighter."
   ]
  },
  {
   "cell_type": "markdown",
   "metadata": {},
   "source": [
    "## Problem 2"
   ]
  },
  {
   "cell_type": "code",
   "execution_count": 126,
   "metadata": {},
   "outputs": [
    {
     "name": "stdout",
     "output_type": "stream",
     "text": [
      "a0 = -2758.943681207632 \n",
      "a1 = 1.5656737982772435\n"
     ]
    }
   ],
   "source": [
    "#1.1\n",
    "\n",
    "import numpy as np\n",
    "\n",
    "datafile = 'data.txt'\n",
    "Data = np.loadtxt(datafile, comments='#')\n",
    "\n",
    "X=Data[:,0] \n",
    "Y=Data[:,1] \n",
    "\n",
    "def xsum(m):\n",
    "    c=[]\n",
    "    for i in range(len(X)): \n",
    "        c.append(X[i]**m)\n",
    "    return sum(c)\n",
    "\n",
    "def xysum(m1):\n",
    "    d=[]\n",
    "    for i in range(len(X)):\n",
    "        d.append(X[i]**m1*Y[i])\n",
    "    return sum(d)\n",
    "\n",
    "a=np.array([[len(X),sum(X)],\\\n",
    "            [sum(X),xsum(2)]])\n",
    "\n",
    "b=np.array([sum(Y),xysum(1)])\n",
    "\n",
    "\n",
    "a0,a1=np.linalg.solve(a,b)\n",
    "print(\"a0 =\",a0,\"\\n\"\"a1 =\",a1)"
   ]
  },
  {
   "cell_type": "code",
   "execution_count": 127,
   "metadata": {},
   "outputs": [
    {
     "name": "stdout",
     "output_type": "stream",
     "text": [
      "a0 = 47068.21392554498 \n",
      "a1 = -48.5534483838502 \n",
      "a2 = 0.012602243445337762\n"
     ]
    }
   ],
   "source": [
    "#1.2\n",
    "\n",
    "c=np.array([[len(X),sum(X),xsum(2)],\\\n",
    "            [sum(X),xsum(2),xsum(3)],\\\n",
    "            [xsum(2),xsum(3),xsum(4)]])\n",
    "\n",
    "d=np.array([sum(Y),xysum(1),xysum(2)])\n",
    "\n",
    "a00,a11,a22=np.linalg.solve(c,d)\n",
    "print(\"a0 =\",a00,\"\\n\"\"a1 =\",a11,\"\\n\"\"a2 =\",a22)"
   ]
  },
  {
   "cell_type": "code",
   "execution_count": 128,
   "metadata": {},
   "outputs": [
    {
     "name": "stdout",
     "output_type": "stream",
     "text": [
      "S_r when degree n=1 713.3569985292215 \n",
      "S_r when degree n=2 28.22227650419054\n"
     ]
    }
   ],
   "source": [
    "#1.3\n",
    "\n",
    "S_r1=[]\n",
    "for i in range(len(X)):\n",
    "    S_r1.append((Y[i]-a0-a1*X[i])**2)\n",
    "\n",
    "S_r2=[]\n",
    "for i in range(len(X)):\n",
    "    S_r2.append((Y[i]-a00-a11*X[i]-a22*X[i]**2)**2)\n",
    "\n",
    "print(\"S_r when degree n=1\",sum(S_r1),\"\\n\"\"S_r when degree n=2\",sum(S_r2))"
   ]
  },
  {
   "cell_type": "markdown",
   "metadata": {},
   "source": [
    "Second order polynomial fits best to the data. Because it calculates vertical distance between data and fit, and $S_r$ for second order is much more smaller than first order. "
   ]
  },
  {
   "cell_type": "code",
   "execution_count": 129,
   "metadata": {},
   "outputs": [
    {
     "data": {
      "image/png": "[encoded data removed]",
      "text/plain": [
       "<Figure size 576x432 with 1 Axes>"
      ]
     },
     "metadata": {
      "needs_background": "light"
     },
     "output_type": "display_data"
    }
   ],
   "source": [
    "#1.4\n",
    "\n",
    "from matplotlib import pyplot as plt\n",
    "\n",
    "def f(x):\n",
    "    return a0+a1*x\n",
    "def g(x):\n",
    "    return a00+a11*x+a22*x**2\n",
    "\n",
    "plt.figure(figsize=(8,6))\n",
    "plt.title(\"First and second order polynomial fit of data\\n\", size=18)\n",
    "#plt.scatter(X,Y)\n",
    "x=np.linspace(1959,2018,100)\n",
    "plt.plot(X,Y,'mo',x,f(x),'c',x,g(x),'b')\n",
    "plt.xlabel(\"x\",size=15)\n",
    "plt.ylabel(\"y\",size=15)\n",
    "plt.legend([\"Data\",\"polynomial fit with n=1\",\"polynomial fit with n=2\"])\n",
    "plt.show()"
   ]
  },
  {
   "cell_type": "markdown",
   "metadata": {},
   "source": [
    "### Problem 3"
   ]
  },
  {
   "cell_type": "code",
   "execution_count": 145,
   "metadata": {},
   "outputs": [
    {
     "name": "stdout",
     "output_type": "stream",
     "text": [
      "[ 0. -0. -0. -0. -0. -0. -0.]\n",
      "[ 0.          0.09870104  0.14761857  0.15504985  0.12790925  0.07195875\n",
      " -0.008     ]\n",
      "[ 0.          0.09762181  0.15000528  0.16126298  0.13513361  0.07501601\n",
      " -0.016     ]\n",
      "[ 0.          0.0961189   0.14873036  0.16055361  0.1341379   0.07187318\n",
      " -0.024     ]\n",
      "[ 0.          0.09464694  0.14669165  0.15816279  0.13099246  0.06702071\n",
      " -0.032     ]\n"
     ]
    }
   ],
   "source": [
    "r=0.2\n",
    "s=1\n",
    "r=np.arange(0,1,0.2)\n",
    "for i in range(5):\n",
    "    A=np.array([[1,0,0,0],\\\n",
    "           [r[i],-2*r[i]-0.04,0.04+r[i],0,0,0,0],\\\n",
    "           [0,r[i],-2*r[i]-0.04,0.04+r[i],0,0,0],\\\n",
    "           [0,0,r[i],-2*r[i]-0.04,0.04+r[i],0,0],\\\n",
    "           [0,0,0,r[i],-2*r[i]-0.04,0.04+r[i],0],\\\n",
    "            [0,0,0,0,r[i],-2*r[i]-0.04,0.04+r[i]],\\\n",
    "            [0,0,0,0,0,0,1]])\n",
    "    b=np.array([0,-0.04*r[i]*s,-0.04*r[i]*s,-0.04*r[i]*s,-0.04*r[i]*s,-0.04*r[i]*s,-0.04*r[i]*s])\n",
    "    print(np.linalg.solve(A,b))\n",
    "\n"
   ]
  },
  {
   "cell_type": "code",
   "execution_count": null,
   "metadata": {},
   "outputs": [],
   "source": []
  }
 ],
 "metadata": {
  "kernelspec": {
   "display_name": "Python 3",
   "language": "python",
   "name": "python3"
  },
  "language_info": {
   "codemirror_mode": {
    "name": "ipython",
    "version": 3
   },
   "file_extension": ".py",
   "mimetype": "text/x-python",
   "name": "python",
   "nbconvert_exporter": "python",
   "pygments_lexer": "ipython3",
   "version": "3.7.4"
  }
 },
 "nbformat": 4,
 "nbformat_minor": 2
}

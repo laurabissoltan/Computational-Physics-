{
 "cells": [
  {
   "cell_type": "markdown",
   "metadata": {},
   "source": [
    "## Assignment 4 Solutions\n",
    "Author: Laura Bissoltan"
   ]
  },
  {
   "cell_type": "markdown",
   "metadata": {},
   "source": [
    "### Problem 1"
   ]
  },
  {
   "cell_type": "code",
   "execution_count": 3,
   "metadata": {},
   "outputs": [
    {
     "name": "stdout",
     "output_type": "stream",
     "text": [
      "V_J: [3.63037551 3.33649669 2.63941992 2.16069752 1.49926332 1.21998694]\n",
      "i 3.0\n"
     ]
    }
   ],
   "source": [
    "#1.1\n",
    "import numpy as np\n",
    "A = np.array([\\\n",
    "             [3,-1,-1,0,0,0],\\\n",
    "             [-1,4,-1,-1,0,0],\\\n",
    "             [-1,-1,4,-1,-1,0],\\\n",
    "             [0,-1,-1,4,-1,-1],\\\n",
    "             [0,0,-1,-1,4,-1],\\\n",
    "             [0,0,0,-1,-1,3]],float)\n",
    "b=np.array([5,5,0,0,0,0],float)\n",
    "n=len(b)\n",
    "\n",
    "def Jacobi(A,b,x0,imax):\n",
    "    x0=np.zeros(b.shape)    \n",
    "    xr=np.zeros(x0.shape)\n",
    "    \n",
    "    for k in range(imax):\n",
    "        for i in range(n):\n",
    "            xr[i] = (b[i] - np.dot(A[i, :i], x0[:i]) - np.dot(A[i, i + 1:], x0[i + 1:])) / A[i, i]\n",
    "        x0 = xr\n",
    "       #print(xr)\n",
    "    return xr\n",
    "\n",
    "\n",
    "VJ=Jacobi(A,b,0,10)\n",
    "print(\"V_J:\",VJ)        \n",
    "print(\"i\", A[0,0])\n",
    "        \n",
    "    "
   ]
  },
  {
   "cell_type": "code",
   "execution_count": 56,
   "metadata": {},
   "outputs": [
    {
     "name": "stdout",
     "output_type": "stream",
     "text": [
      "V_GS: [3.65537747 3.36143587 2.66719859 2.1854602  1.51749645 1.23431888]\n"
     ]
    }
   ],
   "source": [
    "#1.2\n",
    "\n",
    "n=len(b)\n",
    "\n",
    "def Seidel(A,b,x0,imax):\n",
    "    x0=np.zeros(b.shape)    \n",
    "    xr=np.zeros(x0.shape)\n",
    "    \n",
    "    for k in range(0,imax):\n",
    "        for i in range(0,n):\n",
    "            s=0\n",
    "            for j in range(0,i):\n",
    "                s=s+A[i,j]*xr[j]\n",
    "            for j in range(i+1,n):\n",
    "                s=s+A[i,j]*x0[j]\n",
    "            xr[i]=(b[i]-s)/A[i,i]\n",
    "            x0=xr\n",
    "        #print(xr)\n",
    "    return xr  \n",
    "\n",
    "GS=Seidel(A,b,0,10)\n",
    "print(\"V_GS:\", GS)"
   ]
  },
  {
   "cell_type": "code",
   "execution_count": 57,
   "metadata": {},
   "outputs": [
    {
     "name": "stdout",
     "output_type": "stream",
     "text": [
      "The true solution vector V: [3.7254902  3.43137255 2.74509804 2.25490196 1.56862745 1.2745098 ]\n",
      "V_i   Relative error for V_J    Relative error for V_GS\n",
      " 0      2.553078495105462          1.881973135442747\n",
      " 1      2.764953513898025          2.038154643910595\n",
      " 2      3.849702902829611          2.837765660236629\n",
      " 3      4.177762355672825          3.079591118536765\n",
      " 4      4.421963623414503          3.259601379696455\n",
      " 5      4.277947491156613          3.153441482089482\n"
     ]
    }
   ],
   "source": [
    "#1.4\n",
    "\n",
    "V=np.linalg.solve(A,b)\n",
    "print(\"The true solution vector V:\",V)\n",
    "print(\"V_i\", \"  Relative error for V_J\", \"   Relative error for V_GS\")\n",
    "for i in range(0,6):\n",
    "    r_e1=((V[i]-GS[i])/V[i])*100\n",
    "    r_e2=((V[i]-VJ[i])/V[i])*100\n",
    "    print(f'{i:2} {\"    \"} {r_e2:12.15f} {\"        \"} {r_e1:12.15f}')\n"
   ]
  },
  {
   "cell_type": "markdown",
   "metadata": {},
   "source": [
    "### Problem 2"
   ]
  },
  {
   "cell_type": "code",
   "execution_count": 58,
   "metadata": {},
   "outputs": [
    {
     "name": "stdout",
     "output_type": "stream",
     "text": [
      "i    sqrt(ith_eigenvalue)           eigenvector\n",
      "1     26.4310081187959     [-0.58785405  0.73069726 -0.34714424]\n",
      "2     18.4249256953321     [-0.63435541 -0.3505515   0.68898973]\n",
      "3     7.54479442699637     [0.29129699 0.57250939 0.76640659]\n"
     ]
    }
   ],
   "source": [
    "#2\n",
    "from math import sqrt\n",
    "A = np.array([\\\n",
    "            [450,-200,0],\\\n",
    "            [-240,420,-180],\\\n",
    "            [0,-225,225]])\n",
    "eigenvalues, vectors = np.linalg.eig(A)\n",
    "print(\"i\", \"   sqrt(ith_eigenvalue)\" \"           eigenvector\")\n",
    "for i in range(1,4):\n",
    "    print(f'{i} {\"   \"} {sqrt(eigenvalues[i-1]):10.15} {\"   \"} {vectors[:,i-1]}')\n"
   ]
  },
  {
   "cell_type": "markdown",
   "metadata": {},
   "source": [
    "### Problem 3"
   ]
  },
  {
   "cell_type": "code",
   "execution_count": 59,
   "metadata": {},
   "outputs": [],
   "source": [
    "#3.1\n",
    "import numpy as np\n",
    "\n",
    "def qrgram(A):\n",
    "   \n",
    "    (m,n)=A.shape\n",
    "    Q=np.zeros((m,n))\n",
    "    R=np.zeros((n,n))\n",
    "    \n",
    "    for j in range(0,n):\n",
    "        u=A[:,j]\n",
    "        for i in range(0,j):\n",
    "            R[i,j]=np.matmul(np.transpose(Q[:,i]),A[:,j])\n",
    "            u=u-R[i,j]*Q[:,i]\n",
    "        R[j,j]=np.linalg.norm(u)\n",
    "        Q[:,j]=u/R[j,j]\n",
    "    return Q,R\n",
    "\n"
   ]
  },
  {
   "cell_type": "code",
   "execution_count": 60,
   "metadata": {},
   "outputs": [
    {
     "name": "stdout",
     "output_type": "stream",
     "text": [
      "QR decomposition of a real matrix A:\n",
      " [[-5.00000000e-01  5.00000000e-01  5.77350269e-01 -1.88411095e-16]\n",
      " [ 1.00000000e-01  5.00000000e-01  0.00000000e+00  7.07106781e-01]\n",
      " [-3.00000000e-01 -5.00000000e-01  5.77350269e-01 -1.88411095e-16]\n",
      " [ 8.00000000e-01  0.00000000e+00  5.77350269e-01 -1.88411095e-16]\n",
      " [ 1.00000000e-01  5.00000000e-01  0.00000000e+00 -7.07106781e-01]]\n",
      "[[ 20.         -20.         -10.          10.        ]\n",
      " [  0.           6.          -8.          -6.        ]\n",
      " [  0.           0.          10.39230485  -5.19615242]\n",
      " [  0.           0.           0.           7.07106781]]\n"
     ]
    }
   ],
   "source": [
    "#3.2\n",
    "\n",
    "A = np.array([[-10,13,7,-11],\\\n",
    "            [2,1,-5,3],\\\n",
    "            [-6,3,13,-3],\\\n",
    "            [16,-16,-2,5],\\\n",
    "            [2,1,-5,-7]])\n",
    "\n",
    "Q, R = qrgram(A)\n",
    "print(\"QR decomposition of a real matrix A:\\n\", Q)\n",
    "print(R)"
   ]
  }
 ],
 "metadata": {
  "kernelspec": {
   "display_name": "Python 3",
   "language": "python",
   "name": "python3"
  },
  "language_info": {
   "codemirror_mode": {
    "name": "ipython",
    "version": 3
   },
   "file_extension": ".py",
   "mimetype": "text/x-python",
   "name": "python",
   "nbconvert_exporter": "python",
   "pygments_lexer": "ipython3",
   "version": "3.7.4"
  }
 },
 "nbformat": 4,
 "nbformat_minor": 2
}
